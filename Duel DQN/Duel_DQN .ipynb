{
 "cells": [
  {
   "cell_type": "code",
   "execution_count": 4,
   "id": "civic-colombia",
   "metadata": {},
   "outputs": [
    {
     "name": "stdout",
     "output_type": "stream",
     "text": [
      "Ep 0\tMoving average score: 37.00\t\n",
      "Ep 100\tMoving average score: 21.78\t\n",
      "Ep 200\tMoving average score: 55.27\t\n",
      "\n",
      "Environment solved in 193 episodes!\tAverage Score: 195.22\n"
     ]
    }
   ],
   "source": [
    "import gym\n",
    "import torch\n",
    "import torch.nn as nn\n",
    "import numpy as np\n",
    "from collections import deque\n",
    "import random\n",
    "from itertools import count\n",
    "import torch.nn.functional as F\n",
    "from tensorboardX import SummaryWriter\n",
    "\n",
    "\n",
    "device = torch.device(\"cuda:0\" if torch.cuda.is_available() else \"cpu\")\n",
    "\n",
    "\n",
    "class QNetwork(nn.Module):\n",
    "    def __init__(self):\n",
    "        super(QNetwork, self).__init__()\n",
    "\n",
    "        self.fc1 = nn.Linear(4, 64)\n",
    "        self.relu = nn.ReLU()\n",
    "        self.fc_value = nn.Linear(64, 256)\n",
    "        self.fc_adv = nn.Linear(64, 256)\n",
    "\n",
    "        self.value = nn.Linear(256, 1)\n",
    "        self.adv = nn.Linear(256, 2)\n",
    "\n",
    "    def forward(self, state):\n",
    "        y = self.relu(self.fc1(state))\n",
    "        value = self.relu(self.fc_value(y))\n",
    "        adv = self.relu(self.fc_adv(y))\n",
    "\n",
    "        value = self.value(value)\n",
    "        adv = self.adv(adv)\n",
    "\n",
    "        advAverage = torch.mean(adv, dim=1, keepdim=True)\n",
    "        Q = value + adv - advAverage\n",
    "\n",
    "        return Q\n",
    "\n",
    "    def select_action(self, state):\n",
    "        with torch.no_grad():\n",
    "            Q = self.forward(state)\n",
    "            action_index = torch.argmax(Q, dim=1)\n",
    "        return action_index.item()\n",
    "\n",
    "\n",
    "class Memory(object):\n",
    "    def __init__(self, memory_size: int) -> None:\n",
    "        self.memory_size = memory_size\n",
    "        self.buffer = deque(maxlen=self.memory_size)\n",
    "\n",
    "    def add(self, experience) -> None:\n",
    "        self.buffer.append(experience)\n",
    "\n",
    "    def size(self):\n",
    "        return len(self.buffer)\n",
    "\n",
    "    def sample(self, batch_size: int, continuous: bool = True):\n",
    "        if batch_size > len(self.buffer):\n",
    "            batch_size = len(self.buffer)\n",
    "        if continuous:\n",
    "            rand = random.randint(0, len(self.buffer) - batch_size)\n",
    "            return [self.buffer[i] for i in range(rand, rand + batch_size)]\n",
    "        else:\n",
    "            indexes = np.random.choice(np.arange(len(self.buffer)), size=batch_size, replace=False)\n",
    "            return [self.buffer[i] for i in indexes]\n",
    "\n",
    "    def clear(self):\n",
    "        self.buffer.clear()\n",
    "\n",
    "\n",
    "env = gym.make('CartPole-v1')\n",
    "n_state = env.observation_space.shape[0]\n",
    "n_action = env.action_space.n\n",
    "\n",
    "onlineQNetwork = QNetwork().to(device)\n",
    "targetQNetwork = QNetwork().to(device)\n",
    "targetQNetwork.load_state_dict(onlineQNetwork.state_dict())\n",
    "\n",
    "optimizer = torch.optim.Adam(onlineQNetwork.parameters(), lr=1e-4)\n",
    "\n",
    "GAMMA = 0.99\n",
    "EXPLORE = 20000\n",
    "INITIAL_EPSILON = 0.1\n",
    "FINAL_EPSILON = 0.0001\n",
    "REPLAY_MEMORY = 50000\n",
    "BATCH = 16\n",
    "\n",
    "UPDATE_STEPS = 4\n",
    "\n",
    "memory_replay = Memory(REPLAY_MEMORY)\n",
    "\n",
    "epsilon = INITIAL_EPSILON\n",
    "learn_steps = 0\n",
    "writer = SummaryWriter('logs/ddqn')\n",
    "begin_learn = False\n",
    "\n",
    "episode_reward = 0\n",
    "scores = []                        # list containing scores from each episode\n",
    "scores_window = deque(maxlen=100)\n",
    "for epoch in count():\n",
    "\n",
    "    state = env.reset()\n",
    "    episode_reward = 0\n",
    "    for time_steps in range(200):\n",
    "        p = random.random()\n",
    "        if p < epsilon:\n",
    "            action = random.randint(0, 1)\n",
    "        else:\n",
    "            tensor_state = torch.FloatTensor(state).unsqueeze(0).to(device)\n",
    "            action = onlineQNetwork.select_action(tensor_state)\n",
    "        env.render()\n",
    "        next_state, reward, done, _ = env.step(action)\n",
    "        episode_reward += reward\n",
    "        memory_replay.add((state, next_state, action, reward, done))\n",
    "        if memory_replay.size() > 128:\n",
    "            if begin_learn is False:\n",
    "                begin_learn = True\n",
    "            learn_steps += 1\n",
    "            if learn_steps % UPDATE_STEPS == 0:\n",
    "                targetQNetwork.load_state_dict(onlineQNetwork.state_dict())\n",
    "            batch = memory_replay.sample(BATCH, False)\n",
    "            batch_state, batch_next_state, batch_action, batch_reward, batch_done = zip(*batch)\n",
    "\n",
    "            batch_state = torch.FloatTensor(batch_state).to(device)\n",
    "            batch_next_state = torch.FloatTensor(batch_next_state).to(device)\n",
    "            batch_action = torch.FloatTensor(batch_action).unsqueeze(1).to(device)\n",
    "            batch_reward = torch.FloatTensor(batch_reward).unsqueeze(1).to(device)\n",
    "            batch_done = torch.FloatTensor(batch_done).unsqueeze(1).to(device)\n",
    "\n",
    "            with torch.no_grad():\n",
    "                onlineQ_next = onlineQNetwork(batch_next_state)\n",
    "                targetQ_next = targetQNetwork(batch_next_state)\n",
    "                online_max_action = torch.argmax(onlineQ_next, dim=1, keepdim=True)\n",
    "                y = batch_reward + (1 - batch_done) * GAMMA * targetQ_next.gather(1, online_max_action.long())\n",
    "\n",
    "            loss = F.mse_loss(onlineQNetwork(batch_state).gather(1, batch_action.long()), y)\n",
    "            optimizer.zero_grad()\n",
    "            loss.backward()\n",
    "            optimizer.step()\n",
    "            writer.add_scalar('loss', loss.item(), global_step=learn_steps)\n",
    "\n",
    "            if epsilon > FINAL_EPSILON:\n",
    "                epsilon -= (INITIAL_EPSILON - FINAL_EPSILON) / EXPLORE\n",
    "\n",
    "        if done:\n",
    "            break\n",
    "    \n",
    "        state = next_state\n",
    "    scores_window.append(episode_reward)       # save most recent score\n",
    "    scores.append(episode_reward)              # save most recent score\n",
    "\n",
    "    writer.add_scalar('episode reward', episode_reward, global_step=epoch)\n",
    "    if epoch % 100 == 0:\n",
    "        print('Ep {}\\tMoving average score: {:.2f}\\t'.format(epoch, np.mean(scores_window)))\n",
    "    if np.mean(scores_window)>=195.0:\n",
    "        print('\\nEnvironment solved in {:d} episodes!\\tAverage Score: {:.2f}'.format(epoch-100, np.mean(scores_window)))\n",
    "        torch.save(onlineQNetwork.state_dict(), 'checkpoint_duel.pth')\n",
    "        break\n",
    "env.close()"
   ]
  },
  {
   "cell_type": "code",
   "execution_count": 7,
   "id": "sunset-password",
   "metadata": {},
   "outputs": [
    {
     "data": {
      "image/png": "[encoded data removed]",
      "text/plain": [
       "<Figure size 432x288 with 1 Axes>"
      ]
     },
     "metadata": {
      "needs_background": "light"
     },
     "output_type": "display_data"
    }
   ],
   "source": [
    "import matplotlib.pyplot as plt\n",
    "# plot the scores\n",
    "fig = plt.figure()\n",
    "plt.plot(np.arange(len(scores)), scores)\n",
    "plt.ylabel('Score')\n",
    "plt.xlabel('Episode #')\n",
    "plt.show()"
   ]
  },
  {
   "cell_type": "code",
   "execution_count": 13,
   "id": "cross-shock",
   "metadata": {},
   "outputs": [
    {
     "data": {
      "image/png": "[encoded data removed]",
      "text/plain": [
       "<Figure size 432x288 with 1 Axes>"
      ]
     },
     "metadata": {
      "needs_background": "light"
     },
     "output_type": "display_data"
    }
   ],
   "source": [
    "# load the weights from file\n",
    "onlineQNetwork.state_dict(torch.load('checkpoint_duel.pth'))\n",
    "state = env.reset()\n",
    "img = plt.imshow(env.render(mode='rgb_array'))\n"
   ]
  },
  {
   "cell_type": "code",
   "execution_count": null,
   "id": "middle-worship",
   "metadata": {},
   "outputs": [],
   "source": []
  }
 ],
 "metadata": {
  "kernelspec": {
   "display_name": "Python 3",
   "language": "python",
   "name": "python3"
  },
  "language_info": {
   "codemirror_mode": {
    "name": "ipython",
    "version": 3
   },
   "file_extension": ".py",
   "mimetype": "text/x-python",
   "name": "python",
   "nbconvert_exporter": "python",
   "pygments_lexer": "ipython3",
   "version": "3.8.8"
  }
 },
 "nbformat": 4,
 "nbformat_minor": 5
}
